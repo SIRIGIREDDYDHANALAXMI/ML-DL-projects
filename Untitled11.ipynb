{
  "nbformat": 4,
  "nbformat_minor": 0,
  "metadata": {
    "colab": {
      "name": "Untitled11.ipynb",
      "provenance": [],
      "mount_file_id": "1ppgg9qGwdnJyYhbITb5zWowis7GfZb_3",
      "authorship_tag": "ABX9TyPOIpo3LkQ/rIl4OVFde8ZU",
      "include_colab_link": true
    },
    "kernelspec": {
      "name": "python3",
      "display_name": "Python 3"
    }
  },
  "cells": [
    {
      "cell_type": "markdown",
      "metadata": {
        "id": "view-in-github",
        "colab_type": "text"
      },
      "source": [
        "<a href=\"https://colab.research.google.com/github/SIRIGIREDDYDHANALAXMI/ML-project-1/blob/master/Untitled11.ipynb\" target=\"_parent\"><img src=\"https://colab.research.google.com/assets/colab-badge.svg\" alt=\"Open In Colab\"/></a>"
      ]
    },
    {
      "cell_type": "code",
      "metadata": {
        "id": "IHsTImV3DRki",
        "colab_type": "code",
        "outputId": "fd79b930-b0ce-4a41-c8fd-3c836d6e94f2",
        "colab": {
          "base_uri": "https://localhost:8080/",
          "height": 70
        }
      },
      "source": [
        "import numpy as np\n",
        "import pandas as pd\n",
        "import matplotlib.pyplot as plt\n",
        "import os\n",
        "import seaborn as sns"
      ],
      "execution_count": 0,
      "outputs": [
        {
          "output_type": "stream",
          "text": [
            "/usr/local/lib/python3.6/dist-packages/statsmodels/tools/_testing.py:19: FutureWarning: pandas.util.testing is deprecated. Use the functions in the public API at pandas.testing instead.\n",
            "  import pandas.util.testing as tm\n"
          ],
          "name": "stderr"
        }
      ]
    },
    {
      "cell_type": "code",
      "metadata": {
        "id": "xBlJdtifDld_",
        "colab_type": "code",
        "outputId": "b9299af7-5820-4bcb-b24e-8a6dd51af717",
        "colab": {
          "base_uri": "https://localhost:8080/",
          "height": 353
        }
      },
      "source": [
        "#user data\n",
        "user_profile = pd.read_csv(\"//content//drive//My Drive//restaurant-data-with-consumer-ratings//userprofile.csv\")\n",
        "user_payment = pd.read_csv(\"//content//drive//My Drive//restaurant-data-with-consumer-ratings//userpayment.csv\")\n",
        "user_cuisine = pd.read_csv(\"//content//drive//My Drive//restaurant-data-with-consumer-ratings//usercuisine.csv\")\n",
        "print(user_profile.head())\n",
        "print(user_payment.head())\n",
        "print(user_cuisine.head())"
      ],
      "execution_count": 0,
      "outputs": [
        {
          "output_type": "stream",
          "text": [
            "  userID   latitude   longitude smoker  ...  color weight  budget height\n",
            "0  U1001  22.139997 -100.978803  false  ...  black     69  medium   1.77\n",
            "1  U1002  22.150087 -100.983325  false  ...    red     40     low   1.87\n",
            "2  U1003  22.119847 -100.946527  false  ...   blue     60     low   1.69\n",
            "3  U1004  18.867000  -99.183000  false  ...  green     44  medium   1.53\n",
            "4  U1005  22.183477 -100.959891  false  ...  black     65  medium   1.69\n",
            "\n",
            "[5 rows x 19 columns]\n",
            "  userID          Upayment\n",
            "0  U1001              cash\n",
            "1  U1002              cash\n",
            "2  U1003              cash\n",
            "3  U1004              cash\n",
            "4  U1004  bank_debit_cards\n",
            "  userID          Rcuisine\n",
            "0  U1001          American\n",
            "1  U1002           Mexican\n",
            "2  U1003           Mexican\n",
            "3  U1004            Bakery\n",
            "4  U1004  Breakfast-Brunch\n"
          ],
          "name": "stdout"
        }
      ]
    },
    {
      "cell_type": "code",
      "metadata": {
        "id": "36GRCS-6OHma",
        "colab_type": "code",
        "outputId": "95224315-0354-4825-c647-60f11d41945c",
        "colab": {
          "base_uri": "https://localhost:8080/",
          "height": 34
        }
      },
      "source": [
        "user_profile.shape\n"
      ],
      "execution_count": 0,
      "outputs": [
        {
          "output_type": "execute_result",
          "data": {
            "text/plain": [
              "(138, 19)"
            ]
          },
          "metadata": {
            "tags": []
          },
          "execution_count": 9
        }
      ]
    }
  ]
}