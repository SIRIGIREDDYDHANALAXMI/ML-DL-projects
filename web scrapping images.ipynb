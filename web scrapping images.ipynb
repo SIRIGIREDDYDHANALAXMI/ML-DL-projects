{
  "nbformat": 4,
  "nbformat_minor": 0,
  "metadata": {
    "colab": {
      "name": "Untitled23.ipynb",
      "provenance": [],
      "authorship_tag": "ABX9TyMb8nxTb6iDxXBLPVQ1H9p5",
      "include_colab_link": true
    },
    "kernelspec": {
      "name": "python3",
      "display_name": "Python 3"
    }
  },
  "cells": [
    {
      "cell_type": "markdown",
      "metadata": {
        "id": "view-in-github",
        "colab_type": "text"
      },
      "source": [
        "<a href=\"https://colab.research.google.com/github/SIRIGIREDDYDHANALAXMI/ML-DL-projects/blob/master/web%20scrapping%20images.ipynb\" target=\"_parent\"><img src=\"https://colab.research.google.com/assets/colab-badge.svg\" alt=\"Open In Colab\"/></a>"
      ]
    },
    {
      "cell_type": "code",
      "metadata": {
        "id": "tJLykJhD9U0L",
        "colab_type": "code",
        "colab": {}
      },
      "source": [
        "from bs4 import *"
      ],
      "execution_count": 0,
      "outputs": []
    },
    {
      "cell_type": "code",
      "metadata": {
        "id": "iKMftxCr9XX8",
        "colab_type": "code",
        "colab": {}
      },
      "source": [
        "import requests as rq\n",
        "import os"
      ],
      "execution_count": 0,
      "outputs": []
    },
    {
      "cell_type": "code",
      "metadata": {
        "id": "cVX09_aK9nu7",
        "colab_type": "code",
        "colab": {}
      },
      "source": [
        "r = rq.get(\"https://www.imdb.com/list/ls068010962/\")\n",
        "soup = BeautifulSoup(r.text , \"html.parser\")"
      ],
      "execution_count": 0,
      "outputs": []
    },
    {
      "cell_type": "code",
      "metadata": {
        "id": "QTtxTcl0-Jmb",
        "colab_type": "code",
        "colab": {}
      },
      "source": [
        "links=[]\n",
        "x=soup.select('img[src^=\"https://m.media-amazon.com/images/M\"]')\n"
      ],
      "execution_count": 0,
      "outputs": []
    },
    {
      "cell_type": "code",
      "metadata": {
        "id": "It5m1aYZ_i9_",
        "colab_type": "code",
        "colab": {}
      },
      "source": [
        "for img in x:\n",
        "  links.append(img['src'])"
      ],
      "execution_count": 0,
      "outputs": []
    },
    {
      "cell_type": "code",
      "metadata": {
        "id": "M2yXNukeAD2F",
        "colab_type": "code",
        "colab": {}
      },
      "source": [
        "os.mkdir(\"celebs\")\n",
        "i=1\n",
        "\n",
        "for index , img_link in enumerate(links):\n",
        "  img_data = rq.get(img_link).content\n",
        "  with open(\"celebs/\"+str(index+1)+\".jpg\",\"wb+\") as f:\n",
        "    f.write(img_data)\n",
        "  i=i+1\n",
        "\n"
      ],
      "execution_count": 0,
      "outputs": []
    },
    {
      "cell_type": "code",
      "metadata": {
        "id": "knBWWNs0h6u-",
        "colab_type": "code",
        "colab": {}
      },
      "source": [
        ""
      ],
      "execution_count": 0,
      "outputs": []
    }
  ]
}