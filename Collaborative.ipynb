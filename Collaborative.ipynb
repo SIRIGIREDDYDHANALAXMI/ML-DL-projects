{
  "nbformat": 4,
  "nbformat_minor": 0,
  "metadata": {
    "colab": {
      "name": "Collaborative.ipynb",
      "provenance": [],
      "mount_file_id": "1-hf85IYZvLwxH-gIRTR7EVLE_s41-NS4",
      "authorship_tag": "ABX9TyNPhG2VlU9cgTfTlJRa9+HY",
      "include_colab_link": true
    },
    "kernelspec": {
      "name": "python3",
      "display_name": "Python 3"
    }
  },
  "cells": [
    {
      "cell_type": "markdown",
      "metadata": {
        "id": "view-in-github",
        "colab_type": "text"
      },
      "source": [
        "<a href=\"https://colab.research.google.com/github/SIRIGIREDDYDHANALAXMI/ML-project-1/blob/master/Collaborative.ipynb\" target=\"_parent\"><img src=\"https://colab.research.google.com/assets/colab-badge.svg\" alt=\"Open In Colab\"/></a>"
      ]
    },
    {
      "cell_type": "code",
      "metadata": {
        "id": "3-If0CRlNpQS",
        "colab_type": "code",
        "outputId": "145906e5-9744-40c6-9189-0061f1b5417d",
        "colab": {
          "base_uri": "https://localhost:8080/",
          "height": 70
        }
      },
      "source": [
        "import numpy as np\n",
        "import pandas as pd\n",
        "import os\n",
        "import seaborn as sns\n",
        "import matplotlib.pyplot as plt\n"
      ],
      "execution_count": 0,
      "outputs": [
        {
          "output_type": "stream",
          "text": [
            "/usr/local/lib/python3.6/dist-packages/statsmodels/tools/_testing.py:19: FutureWarning: pandas.util.testing is deprecated. Use the functions in the public API at pandas.testing instead.\n",
            "  import pandas.util.testing as tm\n"
          ],
          "name": "stderr"
        }
      ]
    },
    {
      "cell_type": "code",
      "metadata": {
        "id": "IcTzWeJDN-Mj",
        "colab_type": "code",
        "colab": {}
      },
      "source": [
        "user_payments = pd.read_csv(\"//content//drive//My Drive//restaurant-data-with-consumer-ratings//userpayment.csv\") \n",
        "user_cuisines = pd.read_csv(\"//content//drive//My Drive//restaurant-data-with-consumer-ratings//usercuisine.csv\")\n",
        "user_profile = pd.read_csv(\"//content//drive//My Drive//restaurant-data-with-consumer-ratings//userprofile.csv\")"
      ],
      "execution_count": 0,
      "outputs": []
    },
    {
      "cell_type": "code",
      "metadata": {
        "id": "rjz7RNiUyxYD",
        "colab_type": "code",
        "outputId": "f0e800bd-182e-4053-ae72-4f5539510aaa",
        "colab": {
          "base_uri": "https://localhost:8080/",
          "height": 353
        }
      },
      "source": [
        "user_profile.isnull().sum()"
      ],
      "execution_count": 0,
      "outputs": [
        {
          "output_type": "execute_result",
          "data": {
            "text/plain": [
              "userID              0\n",
              "latitude            0\n",
              "longitude           0\n",
              "smoker              0\n",
              "drink_level         0\n",
              "dress_preference    0\n",
              "ambience            0\n",
              "transport           0\n",
              "marital_status      0\n",
              "hijos               0\n",
              "birth_year          0\n",
              "interest            0\n",
              "personality         0\n",
              "religion            0\n",
              "activity            0\n",
              "color               0\n",
              "weight              0\n",
              "budget              0\n",
              "height              0\n",
              "dtype: int64"
            ]
          },
          "metadata": {
            "tags": []
          },
          "execution_count": 4
        }
      ]
    },
    {
      "cell_type": "code",
      "metadata": {
        "id": "A1cccjU3OuMd",
        "colab_type": "code",
        "outputId": "ea02d8be-1273-456a-bbe6-a1df74fe1cbf",
        "colab": {
          "base_uri": "https://localhost:8080/",
          "height": 353
        }
      },
      "source": [
        "print(user_payments.head(), user_payments.shape)\n",
        "print(user_cuisines.head(), user_cuisines.shape)\n",
        "print(user_profile.head(), user_profile.shape)"
      ],
      "execution_count": 0,
      "outputs": [
        {
          "output_type": "stream",
          "text": [
            "  userID          Upayment\n",
            "0  U1001              cash\n",
            "1  U1002              cash\n",
            "2  U1003              cash\n",
            "3  U1004              cash\n",
            "4  U1004  bank_debit_cards (177, 2)\n",
            "  userID          Rcuisine\n",
            "0  U1001          American\n",
            "1  U1002           Mexican\n",
            "2  U1003           Mexican\n",
            "3  U1004            Bakery\n",
            "4  U1004  Breakfast-Brunch (330, 2)\n",
            "  userID   latitude   longitude smoker  ...  color weight  budget height\n",
            "0  U1001  22.139997 -100.978803  false  ...  black     69  medium   1.77\n",
            "1  U1002  22.150087 -100.983325  false  ...    red     40     low   1.87\n",
            "2  U1003  22.119847 -100.946527  false  ...   blue     60     low   1.69\n",
            "3  U1004  18.867000  -99.183000  false  ...  green     44  medium   1.53\n",
            "4  U1005  22.183477 -100.959891  false  ...  black     65  medium   1.69\n",
            "\n",
            "[5 rows x 19 columns] (138, 19)\n"
          ],
          "name": "stdout"
        }
      ]
    },
    {
      "cell_type": "code",
      "metadata": {
        "id": "_qTmWi4ZdWIf",
        "colab_type": "code",
        "outputId": "6b384120-0100-4bc1-bddf-ccf022be7169",
        "colab": {
          "base_uri": "https://localhost:8080/",
          "height": 118
        }
      },
      "source": [
        "r=user_payments[\"Upayment\"].drop_duplicates()\n",
        "print(r,r.shape)"
      ],
      "execution_count": 0,
      "outputs": [
        {
          "output_type": "stream",
          "text": [
            "0                    cash\n",
            "4        bank_debit_cards\n",
            "14    MasterCard-Eurocard\n",
            "20                   VISA\n",
            "35       American_Express\n",
            "Name: Upayment, dtype: object (5,)\n"
          ],
          "name": "stdout"
        }
      ]
    },
    {
      "cell_type": "code",
      "metadata": {
        "id": "EAaglL7kPXX6",
        "colab_type": "code",
        "colab": {}
      },
      "source": [
        "place = pd.read_csv(\"//content//drive//My Drive//restaurant-data-with-consumer-ratings//geoplaces2.csv\")\n",
        "place_payment = pd.read_csv(\"//content//drive//My Drive//restaurant-data-with-consumer-ratings//chefmozaccepts.csv\")\n",
        "place_cuisine = pd.read_csv(\"//content//drive//My Drive//restaurant-data-with-consumer-ratings//chefmozcuisine.csv\")\n",
        "place_open = pd.read_csv(\"//content//drive//My Drive//restaurant-data-with-consumer-ratings//chefmozhours4.csv\")\n",
        "place_parking = pd.read_csv(\"//content//drive//My Drive//restaurant-data-with-consumer-ratings//chefmozparking.csv\")"
      ],
      "execution_count": 0,
      "outputs": []
    },
    {
      "cell_type": "code",
      "metadata": {
        "id": "jbQ34-6mQa-z",
        "colab_type": "code",
        "colab": {}
      },
      "source": [
        "ratings = pd.read_csv(\"//content//drive//My Drive//restaurant-data-with-consumer-ratings//rating_final.csv\")"
      ],
      "execution_count": 0,
      "outputs": []
    },
    {
      "cell_type": "code",
      "metadata": {
        "id": "SKb0ljPrQm0h",
        "colab_type": "code",
        "outputId": "b4512d91-7dc2-4f77-958f-70f28711767c",
        "colab": {
          "base_uri": "https://localhost:8080/",
          "height": 118
        }
      },
      "source": [
        "print(ratings.head(), ratings.shape)"
      ],
      "execution_count": 0,
      "outputs": [
        {
          "output_type": "stream",
          "text": [
            "  userID  placeID  rating  food_rating  service_rating\n",
            "0  U1077   135085       2            2               2\n",
            "1  U1077   135038       2            2               1\n",
            "2  U1077   132825       2            2               2\n",
            "3  U1077   135060       1            2               2\n",
            "4  U1068   135104       1            1               2 (1161, 5)\n"
          ],
          "name": "stdout"
        }
      ]
    },
    {
      "cell_type": "code",
      "metadata": {
        "id": "jfcT-k9Beck1",
        "colab_type": "code",
        "outputId": "3cd9558a-9f41-45c4-e950-dcd489547850",
        "colab": {
          "base_uri": "https://localhost:8080/",
          "height": 34
        }
      },
      "source": [
        "print(138*130)"
      ],
      "execution_count": 0,
      "outputs": [
        {
          "output_type": "stream",
          "text": [
            "17940\n"
          ],
          "name": "stdout"
        }
      ]
    },
    {
      "cell_type": "markdown",
      "metadata": {
        "id": "MlyUyUabRd_X",
        "colab_type": "text"
      },
      "source": [
        "i should recommend them restaurants \n"
      ]
    },
    {
      "cell_type": "code",
      "metadata": {
        "id": "zUG784BIX9XE",
        "colab_type": "code",
        "outputId": "e9de96f1-baff-4240-999c-b5f58275e2c1",
        "colab": {
          "base_uri": "https://localhost:8080/",
          "height": 218
        }
      },
      "source": [
        "x= ratings[\"userID\"]\n",
        "userid=x.drop_duplicates()\n",
        "print(userid,userid.shape)"
      ],
      "execution_count": 0,
      "outputs": [
        {
          "output_type": "stream",
          "text": [
            "0       U1077\n",
            "4       U1068\n",
            "9       U1067\n",
            "15      U1103\n",
            "23      U1107\n",
            "        ...  \n",
            "1136    U1065\n",
            "1142    U1039\n",
            "1146    U1130\n",
            "1150    U1043\n",
            "1152    U1011\n",
            "Name: userID, Length: 138, dtype: object (138,)\n"
          ],
          "name": "stdout"
        }
      ]
    },
    {
      "cell_type": "code",
      "metadata": {
        "id": "ve84PFqqb4tS",
        "colab_type": "code",
        "outputId": "2c3663c3-da4b-42b3-8d71-6406d4423acd",
        "colab": {
          "base_uri": "https://localhost:8080/",
          "height": 218
        }
      },
      "source": [
        "y= ratings[\"placeID\"]\n",
        "placeid= y.drop_duplicates()\n",
        "print(placeid,placeid.shape)"
      ],
      "execution_count": 0,
      "outputs": [
        {
          "output_type": "stream",
          "text": [
            "0      135085\n",
            "1      135038\n",
            "2      132825\n",
            "3      135060\n",
            "4      135104\n",
            "        ...  \n",
            "807    132951\n",
            "829    132937\n",
            "933    132954\n",
            "934    132955\n",
            "935    132958\n",
            "Name: placeID, Length: 130, dtype: int64 (130,)\n"
          ],
          "name": "stdout"
        }
      ]
    },
    {
      "cell_type": "code",
      "metadata": {
        "id": "otdKtL0ecLQ6",
        "colab_type": "code",
        "outputId": "e1118dfd-4eeb-4a95-d22e-0a3eda5831d2",
        "colab": {
          "base_uri": "https://localhost:8080/",
          "height": 269
        }
      },
      "source": [
        "rate_matrix = pd.pivot_table(ratings,index='userID', columns='placeID', values='rating').fillna(0)\n",
        "print(rate_matrix)"
      ],
      "execution_count": 0,
      "outputs": [
        {
          "output_type": "stream",
          "text": [
            "placeID  132560  132561  132564  132572  ...  135104  135106  135108  135109\n",
            "userID                                   ...                                \n",
            "U1001       0.0     0.0     0.0     0.0  ...     0.0     0.0     0.0     0.0\n",
            "U1002       0.0     0.0     0.0     0.0  ...     0.0     1.0     0.0     0.0\n",
            "U1003       0.0     0.0     0.0     0.0  ...     0.0     0.0     0.0     0.0\n",
            "U1004       0.0     0.0     0.0     0.0  ...     0.0     2.0     0.0     0.0\n",
            "U1005       0.0     0.0     0.0     0.0  ...     0.0     0.0     0.0     0.0\n",
            "...         ...     ...     ...     ...  ...     ...     ...     ...     ...\n",
            "U1134       0.0     0.0     0.0     0.0  ...     0.0     0.0     0.0     0.0\n",
            "U1135       0.0     0.0     0.0     0.0  ...     0.0     0.0     0.0     0.0\n",
            "U1136       0.0     0.0     0.0     0.0  ...     0.0     0.0     0.0     0.0\n",
            "U1137       0.0     0.0     0.0     0.0  ...     0.0     0.0     0.0     0.0\n",
            "U1138       0.0     0.0     0.0     0.0  ...     0.0     0.0     0.0     0.0\n",
            "\n",
            "[138 rows x 130 columns]\n"
          ],
          "name": "stdout"
        }
      ]
    },
    {
      "cell_type": "code",
      "metadata": {
        "id": "DJJUh7QKidgJ",
        "colab_type": "code",
        "colab": {}
      },
      "source": [
        "g= rate_matrix.T"
      ],
      "execution_count": 0,
      "outputs": []
    },
    {
      "cell_type": "code",
      "metadata": {
        "id": "TijFReaZehXz",
        "colab_type": "code",
        "outputId": "0465c9db-f942-4a62-d917-270e00a92b0b",
        "colab": {
          "base_uri": "https://localhost:8080/",
          "height": 34
        }
      },
      "source": [
        "\n",
        "import sklearn\n",
        "from sklearn.decomposition import TruncatedSVD\n",
        "\n",
        "SVD = TruncatedSVD(n_components=12, random_state=17)\n",
        "matrix = SVD.fit_transform(g)\n",
        "matrix.shape"
      ],
      "execution_count": 0,
      "outputs": [
        {
          "output_type": "execute_result",
          "data": {
            "text/plain": [
              "(130, 12)"
            ]
          },
          "metadata": {
            "tags": []
          },
          "execution_count": 42
        }
      ]
    },
    {
      "cell_type": "code",
      "metadata": {
        "id": "3D5Ax3Ilkke7",
        "colab_type": "code",
        "outputId": "11722d54-37b6-460b-f3d0-5fc8ce653453",
        "colab": {
          "base_uri": "https://localhost:8080/",
          "height": 34
        }
      },
      "source": [
        "\n",
        "import warnings\n",
        "warnings.filterwarnings(\"ignore\",category =RuntimeWarning)\n",
        "corr = np.corrcoef(matrix)\n",
        "corr.shape"
      ],
      "execution_count": 0,
      "outputs": [
        {
          "output_type": "execute_result",
          "data": {
            "text/plain": [
              "(130, 130)"
            ]
          },
          "metadata": {
            "tags": []
          },
          "execution_count": 43
        }
      ]
    },
    {
      "cell_type": "code",
      "metadata": {
        "id": "SWLrSrzu7GLB",
        "colab_type": "code",
        "colab": {}
      },
      "source": [
        "plt.plot(corr)"
      ],
      "execution_count": 0,
      "outputs": []
    },
    {
      "cell_type": "code",
      "metadata": {
        "id": "xwbFRKDBkuEl",
        "colab_type": "code",
        "outputId": "41aee23a-2adc-4f03-bd87-1352c4dc6d32",
        "colab": {
          "base_uri": "https://localhost:8080/",
          "height": 34
        }
      },
      "source": [
        "column=rate_matrix.columns\n",
        "place = list(column)\n",
        "\n",
        "lets_recommend = place.index(135104)\n",
        "print(lets_recommend)"
      ],
      "execution_count": 0,
      "outputs": [
        {
          "output_type": "stream",
          "text": [
            "126\n"
          ],
          "name": "stdout"
        }
      ]
    },
    {
      "cell_type": "code",
      "metadata": {
        "id": "EtJO8NknlYvJ",
        "colab_type": "code",
        "outputId": "a54abf85-cadc-4906-88b3-d0a76fbd31eb",
        "colab": {
          "base_uri": "https://localhost:8080/",
          "height": 252
        }
      },
      "source": [
        "\n",
        "recommended  = corr[lets_recommend]\n",
        "list(column[(recommended >= 0.9)])"
      ],
      "execution_count": 0,
      "outputs": [
        {
          "output_type": "execute_result",
          "data": {
            "text/plain": [
              "[132560,\n",
              " 132584,\n",
              " 132594,\n",
              " 132608,\n",
              " 132609,\n",
              " 132613,\n",
              " 132630,\n",
              " 132660,\n",
              " 132663,\n",
              " 132667,\n",
              " 132732,\n",
              " 132733,\n",
              " 132740,\n",
              " 135104]"
            ]
          },
          "metadata": {
            "tags": []
          },
          "execution_count": 45
        }
      ]
    }
  ]
}