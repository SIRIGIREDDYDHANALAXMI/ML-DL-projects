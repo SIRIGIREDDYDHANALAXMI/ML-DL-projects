{
  "nbformat": 4,
  "nbformat_minor": 0,
  "metadata": {
    "colab": {
      "name": "Flipr2(Diuresis time series).ipynb",
      "provenance": [],
      "mount_file_id": "1n6ZnRSh5zIL2LOeASSFIkQpiYz0lTs5S",
      "authorship_tag": "ABX9TyPJO3d3f9wEMm0HbHADzD+Z",
      "include_colab_link": true
    },
    "kernelspec": {
      "name": "python3",
      "display_name": "Python 3"
    }
  },
  "cells": [
    {
      "cell_type": "markdown",
      "metadata": {
        "id": "view-in-github",
        "colab_type": "text"
      },
      "source": [
        "<a href=\"https://colab.research.google.com/github/SIRIGIREDDYDHANALAXMI/ML-project-1/blob/master/Flipr2(Diuresis_time_series).ipynb\" target=\"_parent\"><img src=\"https://colab.research.google.com/assets/colab-badge.svg\" alt=\"Open In Colab\"/></a>"
      ]
    },
    {
      "cell_type": "code",
      "metadata": {
        "id": "3hgB5JNtR0Ts",
        "colab_type": "code",
        "colab": {}
      },
      "source": [
        "import numpy as np\n",
        "import pandas as pd\n",
        "import os\n",
        "import seaborn as sns\n",
        "import matplotlib.pyplot as plt\n"
      ],
      "execution_count": 0,
      "outputs": []
    },
    {
      "cell_type": "code",
      "metadata": {
        "id": "Mj2g0K9E1Gor",
        "colab_type": "code",
        "colab": {}
      },
      "source": [
        "train = pd.read_csv(\"//content//drive//My Drive//FLPr//Diuresis_dataset.csv\", encoding = \"ISO-8859-1\") \n",
        "#removed comas between numbers and absolutely made it as an inter in excel file and then uploaded\n",
        "test= pd.read_csv(\"//content//drive//My Drive//FLPr//Test_dataset.csv\",encoding=\"ISO-8859-1\")"
      ],
      "execution_count": 0,
      "outputs": []
    },
    {
      "cell_type": "code",
      "metadata": {
        "id": "oQJ-H7sc__aL",
        "colab_type": "code",
        "outputId": "23f3880b-7686-44c8-c25b-6f9637613435",
        "colab": {
          "base_uri": "https://localhost:8080/",
          "height": 252
        }
      },
      "source": [
        "train.head"
      ],
      "execution_count": 93,
      "outputs": [
        {
          "output_type": "execute_result",
          "data": {
            "text/plain": [
              "<bound method NDFrame.head of        people_ID  20-Mar-20  21-Mar-20  ...  24-Mar-20  25-Mar-20  26-Mar-20\n",
              "0              1        441        544  ...       1002       1216       1473\n",
              "1              2        151        197  ...        400        493        607\n",
              "2              3        416        515  ...        948       1150       1396\n",
              "3              4        410        506  ...        928       1127       1368\n",
              "4              5        390        483  ...        893       1084       1316\n",
              "...          ...        ...        ...  ...        ...        ...        ...\n",
              "10709      22691        134        174  ...        359        444        549\n",
              "10710      22692        387        479  ...        885       1075       1303\n",
              "10711      22693        177        228  ...        448        551        677\n",
              "10712      22694        352        438  ...        815        991       1204\n",
              "10713      22695        181        230  ...        455        559        687\n",
              "\n",
              "[10714 rows x 8 columns]>"
            ]
          },
          "metadata": {
            "tags": []
          },
          "execution_count": 93
        }
      ]
    },
    {
      "cell_type": "code",
      "metadata": {
        "id": "H6W2RwEkK0jO",
        "colab_type": "code",
        "outputId": "d0e5a328-1924-4bc9-8c54-05eaa6bfd2be",
        "colab": {
          "base_uri": "https://localhost:8080/",
          "height": 151
        }
      },
      "source": [
        "\n",
        "print(test.head())"
      ],
      "execution_count": 94,
      "outputs": [
        {
          "output_type": "stream",
          "text": [
            "   people_ID Region  Gender  ... Insurance   salary FT/month\n",
            "0       5942  Delhi  Female  ...   3900000  1300000        1\n",
            "1      18664  Delhi    Male  ...   1800000  1300000        1\n",
            "2       5603  Delhi  Female  ...   5000000  2000000        2\n",
            "3       5649  Delhi  Female  ...   3100000   600000        2\n",
            "4       5099  Delhi  Female  ...   2300000  1500000        1\n",
            "\n",
            "[5 rows x 27 columns]\n"
          ],
          "name": "stdout"
        }
      ]
    },
    {
      "cell_type": "code",
      "metadata": {
        "id": "spQ1SRwWGMa2",
        "colab_type": "code",
        "outputId": "3965e3f8-c365-4ed3-fa2a-391096eb703a",
        "colab": {
          "base_uri": "https://localhost:8080/",
          "height": 168
        }
      },
      "source": [
        "train.dtypes"
      ],
      "execution_count": 95,
      "outputs": [
        {
          "output_type": "execute_result",
          "data": {
            "text/plain": [
              "people_ID    int64\n",
              "20-Mar-20    int64\n",
              "21-Mar-20    int64\n",
              "22-Mar-20    int64\n",
              "23-Mar-20    int64\n",
              "24-Mar-20    int64\n",
              "25-Mar-20    int64\n",
              "26-Mar-20    int64\n",
              "dtype: object"
            ]
          },
          "metadata": {
            "tags": []
          },
          "execution_count": 95
        }
      ]
    },
    {
      "cell_type": "code",
      "metadata": {
        "id": "DPNBLqiNOkie",
        "colab_type": "code",
        "colab": {}
      },
      "source": [
        "train.isnull().sum()\n"
      ],
      "execution_count": 0,
      "outputs": []
    },
    {
      "cell_type": "code",
      "metadata": {
        "id": "W0E9ae_uTvbA",
        "colab_type": "code",
        "colab": {}
      },
      "source": [
        "#good , no null values\n",
        "#lets transpose columns and rows as date is mentioned in rows.\n",
        "x= train\n",
        "x=x.T\n",
        "print(x.head())\n",
        "print(x.columns)\n"
      ],
      "execution_count": 0,
      "outputs": []
    },
    {
      "cell_type": "code",
      "metadata": {
        "id": "MVt5cv_QiPKM",
        "colab_type": "code",
        "outputId": "45879bce-03ca-42f3-a035-f36e119da8b1",
        "colab": {
          "base_uri": "https://localhost:8080/",
          "height": 67
        }
      },
      "source": [
        "# t is Day only dataframe\n",
        "t= x.iloc[1:,:0]\n",
        "print(t.head)"
      ],
      "execution_count": 61,
      "outputs": [
        {
          "output_type": "stream",
          "text": [
            "<bound method NDFrame.head of Empty DataFrame\n",
            "Columns: []\n",
            "Index: [20-Mar-20, 21-Mar-20, 22-Mar-20, 23-Mar-20, 24-Mar-20, 25-Mar-20, 26-Mar-20]>\n"
          ],
          "name": "stdout"
        }
      ]
    },
    {
      "cell_type": "code",
      "metadata": {
        "id": "Bp4wIun9mr_a",
        "colab_type": "code",
        "outputId": "ee4d0d6c-cd28-43ae-9fd8-4e00aac77e97",
        "colab": {
          "base_uri": "https://localhost:8080/",
          "height": 238
        }
      },
      "source": [
        "t.apply(pd.to_datetime)"
      ],
      "execution_count": 62,
      "outputs": [
        {
          "output_type": "execute_result",
          "data": {
            "text/html": [
              "<div>\n",
              "<style scoped>\n",
              "    .dataframe tbody tr th:only-of-type {\n",
              "        vertical-align: middle;\n",
              "    }\n",
              "\n",
              "    .dataframe tbody tr th {\n",
              "        vertical-align: top;\n",
              "    }\n",
              "\n",
              "    .dataframe thead th {\n",
              "        text-align: right;\n",
              "    }\n",
              "</style>\n",
              "<table border=\"1\" class=\"dataframe\">\n",
              "  <thead>\n",
              "    <tr style=\"text-align: right;\">\n",
              "      <th></th>\n",
              "    </tr>\n",
              "  </thead>\n",
              "  <tbody>\n",
              "    <tr>\n",
              "      <th>20-Mar-20</th>\n",
              "    </tr>\n",
              "    <tr>\n",
              "      <th>21-Mar-20</th>\n",
              "    </tr>\n",
              "    <tr>\n",
              "      <th>22-Mar-20</th>\n",
              "    </tr>\n",
              "    <tr>\n",
              "      <th>23-Mar-20</th>\n",
              "    </tr>\n",
              "    <tr>\n",
              "      <th>24-Mar-20</th>\n",
              "    </tr>\n",
              "    <tr>\n",
              "      <th>25-Mar-20</th>\n",
              "    </tr>\n",
              "    <tr>\n",
              "      <th>26-Mar-20</th>\n",
              "    </tr>\n",
              "  </tbody>\n",
              "</table>\n",
              "</div>"
            ],
            "text/plain": [
              "Empty DataFrame\n",
              "Columns: []\n",
              "Index: [20-Mar-20, 21-Mar-20, 22-Mar-20, 23-Mar-20, 24-Mar-20, 25-Mar-20, 26-Mar-20]"
            ]
          },
          "metadata": {
            "tags": []
          },
          "execution_count": 62
        }
      ]
    },
    {
      "cell_type": "code",
      "metadata": {
        "id": "hr58qjLXoqGa",
        "colab_type": "code",
        "outputId": "33cc8380-fa92-436a-f59f-48f28093320b",
        "colab": {
          "base_uri": "https://localhost:8080/",
          "height": 151
        }
      },
      "source": [
        "#data values dataframe\n",
        "d=x.iloc[0:,0:]\n",
        "print(d.head())"
      ],
      "execution_count": 63,
      "outputs": [
        {
          "output_type": "stream",
          "text": [
            "           0      1      2      3      4      ...  10709  10710  10711  10712  10713\n",
            "people_ID      1      2      3      4      5  ...  22691  22692  22693  22694  22695\n",
            "20-Mar-20    441    151    416    410    390  ...    134    387    177    352    181\n",
            "21-Mar-20    544    197    515    506    483  ...    174    479    228    438    230\n",
            "22-Mar-20    670    253    632    621    595  ...    225    592    288    543    290\n",
            "23-Mar-20    821    322    777    762    730  ...    288    725    362    666    366\n",
            "\n",
            "[5 rows x 10714 columns]\n"
          ],
          "name": "stdout"
        }
      ]
    },
    {
      "cell_type": "code",
      "metadata": {
        "id": "rzOuu05As8Tf",
        "colab_type": "code",
        "outputId": "71db61e9-0585-4ac2-b6de-1562bfaa5c11",
        "colab": {
          "base_uri": "https://localhost:8080/",
          "height": 84
        }
      },
      "source": [
        "#c is the people id \n",
        "c= x.iloc[0:1,0:]\n",
        "print(c.head())"
      ],
      "execution_count": 64,
      "outputs": [
        {
          "output_type": "stream",
          "text": [
            "           0      1      2      3      4      ...  10709  10710  10711  10712  10713\n",
            "people_ID      1      2      3      4      5  ...  22691  22692  22693  22694  22695\n",
            "\n",
            "[1 rows x 10714 columns]\n"
          ],
          "name": "stdout"
        }
      ]
    },
    {
      "cell_type": "code",
      "metadata": {
        "id": "k-KldNObAfzM",
        "colab_type": "code",
        "colab": {
          "base_uri": "https://localhost:8080/",
          "height": 34
        },
        "outputId": "edcdceb8-4ede-465f-e190-408446da3833"
      },
      "source": [
        "print(c.size)"
      ],
      "execution_count": 65,
      "outputs": [
        {
          "output_type": "stream",
          "text": [
            "10714\n"
          ],
          "name": "stdout"
        }
      ]
    },
    {
      "cell_type": "code",
      "metadata": {
        "id": "eNTslSYg3sw1",
        "colab_type": "code",
        "colab": {}
      },
      "source": [
        "#training and validation data split\n",
        "train = d[:int(0.8*(len(d)))]\n",
        "valid = d[int(0.8*(len(d))):]"
      ],
      "execution_count": 0,
      "outputs": []
    },
    {
      "cell_type": "code",
      "metadata": {
        "id": "AWf31p53iMeT",
        "colab_type": "code",
        "outputId": "68766dc4-561a-466b-b968-41d85c2a6a58",
        "colab": {
          "base_uri": "https://localhost:8080/",
          "height": 104
        }
      },
      "source": [
        "from statsmodels.tsa.vector_ar.var_model import VAR\n",
        "model = VAR(endog=d)\n",
        "model_fit = model.fit()\n",
        "prediction = model_fit.forecast(model_fit.y, steps=len(valid))"
      ],
      "execution_count": 67,
      "outputs": [
        {
          "output_type": "stream",
          "text": [
            "/usr/local/lib/python3.6/dist-packages/statsmodels/tsa/base/tsa_model.py:215: ValueWarning: An unsupported index was provided and will be ignored when e.g. forecasting.\n",
            "  ' ignored when e.g. forecasting.', ValueWarning)\n",
            "/usr/local/lib/python3.6/dist-packages/statsmodels/base/wrapper.py:35: FutureWarning: y is a deprecated alias for endog, will be removed in version 0.11.0\n",
            "  obj = getattr(results, attr)\n"
          ],
          "name": "stderr"
        }
      ]
    },
    {
      "cell_type": "code",
      "metadata": {
        "id": "W4mT6B0NsiAV",
        "colab_type": "code",
        "colab": {}
      },
      "source": [
        "#making dataframe for predicted values\n",
        "\n",
        "pred=pd.DataFrame(index=range(0,len(prediction)),columns=[c])\n",
        "\n",
        "for i in range(0,len(valid)):\n",
        "  for j in range(0,10714):\n",
        "    pred.iloc[i][j]=prediction[i][j]\n"
      ],
      "execution_count": 0,
      "outputs": []
    },
    {
      "cell_type": "code",
      "metadata": {
        "id": "G5ujUbT-Bqw3",
        "colab_type": "code",
        "outputId": "241b8ced-2d72-4370-d45f-f4a6536bec61",
        "colab": {
          "base_uri": "https://localhost:8080/",
          "height": 155
        }
      },
      "source": [
        "pred.head()"
      ],
      "execution_count": 20,
      "outputs": [
        {
          "output_type": "execute_result",
          "data": {
            "text/html": [
              "<div>\n",
              "<style scoped>\n",
              "    .dataframe tbody tr th:only-of-type {\n",
              "        vertical-align: middle;\n",
              "    }\n",
              "\n",
              "    .dataframe tbody tr th {\n",
              "        vertical-align: top;\n",
              "    }\n",
              "\n",
              "    .dataframe thead tr th {\n",
              "        text-align: left;\n",
              "    }\n",
              "</style>\n",
              "<table border=\"1\" class=\"dataframe\">\n",
              "  <thead>\n",
              "    <tr>\n",
              "      <th></th>\n",
              "      <th>0</th>\n",
              "      <th>1</th>\n",
              "      <th>2</th>\n",
              "      <th>3</th>\n",
              "      <th>4</th>\n",
              "      <th>5</th>\n",
              "      <th>6</th>\n",
              "      <th>7</th>\n",
              "      <th>8</th>\n",
              "      <th>9</th>\n",
              "      <th>10</th>\n",
              "      <th>11</th>\n",
              "      <th>12</th>\n",
              "      <th>13</th>\n",
              "      <th>14</th>\n",
              "      <th>15</th>\n",
              "      <th>16</th>\n",
              "      <th>17</th>\n",
              "      <th>18</th>\n",
              "      <th>19</th>\n",
              "      <th>20</th>\n",
              "      <th>21</th>\n",
              "      <th>22</th>\n",
              "      <th>23</th>\n",
              "      <th>24</th>\n",
              "      <th>25</th>\n",
              "      <th>26</th>\n",
              "      <th>27</th>\n",
              "      <th>28</th>\n",
              "      <th>29</th>\n",
              "      <th>30</th>\n",
              "      <th>31</th>\n",
              "      <th>32</th>\n",
              "      <th>33</th>\n",
              "      <th>34</th>\n",
              "      <th>35</th>\n",
              "      <th>36</th>\n",
              "      <th>37</th>\n",
              "      <th>38</th>\n",
              "      <th>39</th>\n",
              "      <th>...</th>\n",
              "      <th>10674</th>\n",
              "      <th>10675</th>\n",
              "      <th>10676</th>\n",
              "      <th>10677</th>\n",
              "      <th>10678</th>\n",
              "      <th>10679</th>\n",
              "      <th>10680</th>\n",
              "      <th>10681</th>\n",
              "      <th>10682</th>\n",
              "      <th>10683</th>\n",
              "      <th>10684</th>\n",
              "      <th>10685</th>\n",
              "      <th>10686</th>\n",
              "      <th>10687</th>\n",
              "      <th>10688</th>\n",
              "      <th>10689</th>\n",
              "      <th>10690</th>\n",
              "      <th>10691</th>\n",
              "      <th>10692</th>\n",
              "      <th>10693</th>\n",
              "      <th>10694</th>\n",
              "      <th>10695</th>\n",
              "      <th>10696</th>\n",
              "      <th>10697</th>\n",
              "      <th>10698</th>\n",
              "      <th>10699</th>\n",
              "      <th>10700</th>\n",
              "      <th>10701</th>\n",
              "      <th>10702</th>\n",
              "      <th>10703</th>\n",
              "      <th>10704</th>\n",
              "      <th>10705</th>\n",
              "      <th>10706</th>\n",
              "      <th>10707</th>\n",
              "      <th>10708</th>\n",
              "      <th>10709</th>\n",
              "      <th>10710</th>\n",
              "      <th>10711</th>\n",
              "      <th>10712</th>\n",
              "      <th>10713</th>\n",
              "    </tr>\n",
              "  </thead>\n",
              "  <tbody>\n",
              "    <tr>\n",
              "      <th>0</th>\n",
              "      <td>1783.49</td>\n",
              "      <td>744.442</td>\n",
              "      <td>1691.3</td>\n",
              "      <td>1657.11</td>\n",
              "      <td>1594.9</td>\n",
              "      <td>1575.84</td>\n",
              "      <td>1347.61</td>\n",
              "      <td>884.965</td>\n",
              "      <td>1299.89</td>\n",
              "      <td>1053.47</td>\n",
              "      <td>1534.83</td>\n",
              "      <td>887.314</td>\n",
              "      <td>1639.62</td>\n",
              "      <td>620.482</td>\n",
              "      <td>1569</td>\n",
              "      <td>1054.64</td>\n",
              "      <td>905.657</td>\n",
              "      <td>849.857</td>\n",
              "      <td>855.316</td>\n",
              "      <td>992.085</td>\n",
              "      <td>1072.85</td>\n",
              "      <td>985.694</td>\n",
              "      <td>1685.9</td>\n",
              "      <td>917.425</td>\n",
              "      <td>721.31</td>\n",
              "      <td>1567.16</td>\n",
              "      <td>1079.86</td>\n",
              "      <td>860.123</td>\n",
              "      <td>1505.73</td>\n",
              "      <td>1643.8</td>\n",
              "      <td>1058.24</td>\n",
              "      <td>1046.16</td>\n",
              "      <td>1323.17</td>\n",
              "      <td>1096.15</td>\n",
              "      <td>1230.4</td>\n",
              "      <td>1202.87</td>\n",
              "      <td>912.812</td>\n",
              "      <td>1499.56</td>\n",
              "      <td>861.908</td>\n",
              "      <td>826.942</td>\n",
              "      <td>...</td>\n",
              "      <td>1749.56</td>\n",
              "      <td>1281.1</td>\n",
              "      <td>739.305</td>\n",
              "      <td>1724.34</td>\n",
              "      <td>1158.81</td>\n",
              "      <td>789.822</td>\n",
              "      <td>815.673</td>\n",
              "      <td>823.873</td>\n",
              "      <td>1096.23</td>\n",
              "      <td>871.426</td>\n",
              "      <td>1678.62</td>\n",
              "      <td>644.315</td>\n",
              "      <td>1274.26</td>\n",
              "      <td>1724.92</td>\n",
              "      <td>1603.27</td>\n",
              "      <td>1590.15</td>\n",
              "      <td>728.578</td>\n",
              "      <td>1685.97</td>\n",
              "      <td>1032.79</td>\n",
              "      <td>761.986</td>\n",
              "      <td>1735.08</td>\n",
              "      <td>1090.85</td>\n",
              "      <td>707.642</td>\n",
              "      <td>968.068</td>\n",
              "      <td>1529.18</td>\n",
              "      <td>1425.9</td>\n",
              "      <td>1542.24</td>\n",
              "      <td>1113.13</td>\n",
              "      <td>1693.76</td>\n",
              "      <td>1576.41</td>\n",
              "      <td>1399.55</td>\n",
              "      <td>1069.79</td>\n",
              "      <td>843.199</td>\n",
              "      <td>1257.37</td>\n",
              "      <td>1620.83</td>\n",
              "      <td>674.996</td>\n",
              "      <td>1578.38</td>\n",
              "      <td>827.923</td>\n",
              "      <td>1460.32</td>\n",
              "      <td>840.514</td>\n",
              "    </tr>\n",
              "    <tr>\n",
              "      <th>1</th>\n",
              "      <td>2156.46</td>\n",
              "      <td>909.353</td>\n",
              "      <td>2046.18</td>\n",
              "      <td>2004.3</td>\n",
              "      <td>1930.04</td>\n",
              "      <td>1905.93</td>\n",
              "      <td>1632.95</td>\n",
              "      <td>1077.56</td>\n",
              "      <td>1575.88</td>\n",
              "      <td>1279.78</td>\n",
              "      <td>1857.85</td>\n",
              "      <td>1080.97</td>\n",
              "      <td>1983.83</td>\n",
              "      <td>760.393</td>\n",
              "      <td>1899.34</td>\n",
              "      <td>1281.39</td>\n",
              "      <td>1102.41</td>\n",
              "      <td>1035.92</td>\n",
              "      <td>1043.3</td>\n",
              "      <td>1207.15</td>\n",
              "      <td>1303.37</td>\n",
              "      <td>1199.08</td>\n",
              "      <td>2038.91</td>\n",
              "      <td>1116.31</td>\n",
              "      <td>881.802</td>\n",
              "      <td>1896.44</td>\n",
              "      <td>1310.37</td>\n",
              "      <td>1047.75</td>\n",
              "      <td>1822.65</td>\n",
              "      <td>1988.08</td>\n",
              "      <td>1285.56</td>\n",
              "      <td>1272.37</td>\n",
              "      <td>1603.52</td>\n",
              "      <td>1330.37</td>\n",
              "      <td>1492.67</td>\n",
              "      <td>1459.67</td>\n",
              "      <td>1112</td>\n",
              "      <td>1814.99</td>\n",
              "      <td>1049.4</td>\n",
              "      <td>1008.37</td>\n",
              "      <td>...</td>\n",
              "      <td>2115.25</td>\n",
              "      <td>1553.83</td>\n",
              "      <td>903.298</td>\n",
              "      <td>2084.94</td>\n",
              "      <td>1407.19</td>\n",
              "      <td>963.72</td>\n",
              "      <td>994.223</td>\n",
              "      <td>1004.08</td>\n",
              "      <td>1332.02</td>\n",
              "      <td>1061.86</td>\n",
              "      <td>2031.29</td>\n",
              "      <td>789.045</td>\n",
              "      <td>1544.86</td>\n",
              "      <td>2086.34</td>\n",
              "      <td>1939.46</td>\n",
              "      <td>1923.96</td>\n",
              "      <td>890.554</td>\n",
              "      <td>2038.77</td>\n",
              "      <td>1255.13</td>\n",
              "      <td>930.117</td>\n",
              "      <td>2097.85</td>\n",
              "      <td>1325.05</td>\n",
              "      <td>864.79</td>\n",
              "      <td>1177.17</td>\n",
              "      <td>1850.98</td>\n",
              "      <td>1725.97</td>\n",
              "      <td>1865.58</td>\n",
              "      <td>1352.4</td>\n",
              "      <td>2049.17</td>\n",
              "      <td>1907.14</td>\n",
              "      <td>1694.57</td>\n",
              "      <td>1300.11</td>\n",
              "      <td>1027.65</td>\n",
              "      <td>1524.58</td>\n",
              "      <td>1961.68</td>\n",
              "      <td>826.134</td>\n",
              "      <td>1908.93</td>\n",
              "      <td>1009.15</td>\n",
              "      <td>1767.96</td>\n",
              "      <td>1025.19</td>\n",
              "    </tr>\n",
              "  </tbody>\n",
              "</table>\n",
              "<p>2 rows × 10714 columns</p>\n",
              "</div>"
            ],
            "text/plain": [
              "     0        1        2        3      ...    10710    10711    10712    10713\n",
              "0  1783.49  744.442   1691.3  1657.11  ...  1578.38  827.923  1460.32  840.514\n",
              "1  2156.46  909.353  2046.18   2004.3  ...  1908.93  1009.15  1767.96  1025.19\n",
              "\n",
              "[2 rows x 10714 columns]"
            ]
          },
          "metadata": {
            "tags": []
          },
          "execution_count": 20
        }
      ]
    },
    {
      "cell_type": "code",
      "metadata": {
        "id": "9KrZgOc8B7XX",
        "colab_type": "code",
        "outputId": "64a5aecc-10cf-48b3-9e5a-ccc478228872",
        "colab": {
          "base_uri": "https://localhost:8080/",
          "height": 218
        }
      },
      "source": [
        "pred.dtypes\n",
        "pred=pred.astype(int)\n",
        "print(pred.dtypes)"
      ],
      "execution_count": 21,
      "outputs": [
        {
          "output_type": "stream",
          "text": [
            "0        int64\n",
            "1        int64\n",
            "2        int64\n",
            "3        int64\n",
            "4        int64\n",
            "         ...  \n",
            "10709    int64\n",
            "10710    int64\n",
            "10711    int64\n",
            "10712    int64\n",
            "10713    int64\n",
            "Length: 10714, dtype: object\n"
          ],
          "name": "stdout"
        }
      ]
    },
    {
      "cell_type": "code",
      "metadata": {
        "id": "nywKDR8iCKei",
        "colab_type": "code",
        "outputId": "c571f5f0-f061-4888-be6c-89d013e8b3dc",
        "colab": {
          "base_uri": "https://localhost:8080/",
          "height": 218
        }
      },
      "source": [
        "\n",
        "print(pred.head())\n",
        "print(valid.head())\n",
        "print(valid.shape)\n",
        "print(pred.shape)"
      ],
      "execution_count": 22,
      "outputs": [
        {
          "output_type": "stream",
          "text": [
            "  0     1     2     3     4     5      ... 10708 10709 10710 10711 10712 10713\n",
            "0  1783   744  1691  1657  1594  1575  ...  1620   674  1578   827  1460   840\n",
            "1  2156   909  2046  2004  1930  1905  ...  1961   826  1908  1009  1767  1025\n",
            "\n",
            "[2 rows x 10714 columns]\n",
            "           0      1      2      3      4      ...  10709  10710  10711  10712  10713\n",
            "25-Mar-20   1216    493   1150   1127   1084  ...    444   1075    551    991    559\n",
            "26-Mar-20   1473    607   1396   1368   1316  ...    549   1303    677   1204    687\n",
            "\n",
            "[2 rows x 10714 columns]\n",
            "(2, 10714)\n",
            "(2, 10714)\n"
          ],
          "name": "stdout"
        }
      ]
    },
    {
      "cell_type": "code",
      "metadata": {
        "id": "qT9dI0C53yNT",
        "colab_type": "code",
        "outputId": "7f66afaa-7d04-463d-ad23-76188f52a747",
        "colab": {
          "base_uri": "https://localhost:8080/",
          "height": 50
        }
      },
      "source": [
        "from math import sqrt\n",
        "from sklearn.metrics import mean_squared_log_error\n",
        "for i in range(0,2):\n",
        "  print('rmse value for', i, 'is : ', np.sqrt(mean_squared_log_error(pred.iloc[i:i+1,:], valid.iloc[i:i+1,0:])))"
      ],
      "execution_count": 69,
      "outputs": [
        {
          "output_type": "stream",
          "text": [
            "rmse value for 0 is :  0.39585126036696466\n",
            "rmse value for 1 is :  0.390872626180159\n"
          ],
          "name": "stdout"
        }
      ]
    },
    {
      "cell_type": "code",
      "metadata": {
        "id": "QTt61_ClsVWh",
        "colab_type": "code",
        "outputId": "8a19006c-80c9-4adf-e85f-1ea5b7c3625a",
        "colab": {
          "base_uri": "https://localhost:8080/",
          "height": 138
        }
      },
      "source": [
        "model = VAR(endog=d)\n",
        "model_fit = model.fit()\n",
        "yhat = model_fit.forecast(model_fit.y, steps=1)\n",
        "print(yhat)\n",
        "#here y_hat is 27-Mar-2020"
      ],
      "execution_count": 70,
      "outputs": [
        {
          "output_type": "stream",
          "text": [
            "/usr/local/lib/python3.6/dist-packages/statsmodels/tsa/base/tsa_model.py:215: ValueWarning: An unsupported index was provided and will be ignored when e.g. forecasting.\n",
            "  ' ignored when e.g. forecasting.', ValueWarning)\n"
          ],
          "name": "stderr"
        },
        {
          "output_type": "stream",
          "text": [
            "[[1783.49431465  744.44241695 1691.30461887 ...  827.92333142\n",
            "  1460.31809977  840.51382205]]\n"
          ],
          "name": "stdout"
        },
        {
          "output_type": "stream",
          "text": [
            "/usr/local/lib/python3.6/dist-packages/statsmodels/base/wrapper.py:35: FutureWarning: y is a deprecated alias for endog, will be removed in version 0.11.0\n",
            "  obj = getattr(results, attr)\n"
          ],
          "name": "stderr"
        }
      ]
    },
    {
      "cell_type": "code",
      "metadata": {
        "id": "36vGqK1a7auk",
        "colab_type": "code",
        "colab": {
          "base_uri": "https://localhost:8080/",
          "height": 252
        },
        "outputId": "1a7e2bb4-78ff-492e-c2b6-db0e7c0781eb"
      },
      "source": [
        "#submission file\n",
        "yhat = yhat.astype(int)\n",
        "march27 = pd.DataFrame(yhat)\n",
        "x=x.T\n",
        "march27=march27.T\n",
        "final = pd.concat([x,march27], axis=1)\n",
        "print(final)"
      ],
      "execution_count": 72,
      "outputs": [
        {
          "output_type": "stream",
          "text": [
            "       people_ID  20-Mar-20  21-Mar-20  ...  25-Mar-20  26-Mar-20     0\n",
            "0              1        441        544  ...       1216       1473  1783\n",
            "1              2        151        197  ...        493        607   744\n",
            "2              3        416        515  ...       1150       1396  1691\n",
            "3              4        410        506  ...       1127       1368  1657\n",
            "4              5        390        483  ...       1084       1316  1594\n",
            "...          ...        ...        ...  ...        ...        ...   ...\n",
            "10709      22691        134        174  ...        444        549   674\n",
            "10710      22692        387        479  ...       1075       1303  1578\n",
            "10711      22693        177        228  ...        551        677   827\n",
            "10712      22694        352        438  ...        991       1204  1460\n",
            "10713      22695        181        230  ...        559        687   840\n",
            "\n",
            "[10714 rows x 9 columns]\n"
          ],
          "name": "stdout"
        }
      ]
    },
    {
      "cell_type": "code",
      "metadata": {
        "id": "vZvdCaRlBS_G",
        "colab_type": "code",
        "colab": {
          "base_uri": "https://localhost:8080/",
          "height": 34
        },
        "outputId": "af00d6d9-938f-41b1-bbff-c561dcc5c54d"
      },
      "source": [
        "print(final[\"people_ID\"].shape)"
      ],
      "execution_count": 73,
      "outputs": [
        {
          "output_type": "stream",
          "text": [
            "(10714,)\n"
          ],
          "name": "stdout"
        }
      ]
    },
    {
      "cell_type": "code",
      "metadata": {
        "id": "0RAw89Y2-ox7",
        "colab_type": "code",
        "colab": {
          "base_uri": "https://localhost:8080/",
          "height": 84
        },
        "outputId": "8dd92d5f-da21-4eb4-afcc-d67ee12ec65c"
      },
      "source": [
        "final = final.rename(columns={0: '27-Mar-20'}, index={'ONE': 'one'})\n",
        "print(final.columns)\n",
        "print(final[\"people_ID\"].shape)"
      ],
      "execution_count": 74,
      "outputs": [
        {
          "output_type": "stream",
          "text": [
            "Index(['people_ID', '20-Mar-20', '21-Mar-20', '22-Mar-20', '23-Mar-20',\n",
            "       '24-Mar-20', '25-Mar-20', '26-Mar-20', '27-Mar-20'],\n",
            "      dtype='object')\n",
            "(10714,)\n"
          ],
          "name": "stdout"
        }
      ]
    },
    {
      "cell_type": "code",
      "metadata": {
        "id": "gYpTS8xWLQLD",
        "colab_type": "code",
        "colab": {
          "base_uri": "https://localhost:8080/",
          "height": 118
        },
        "outputId": "0e86b46a-a50b-499a-f60d-478ca1668e23"
      },
      "source": [
        "final = pd.concat([ final['people_ID'], final[\"27-Mar-20\"]] ,axis=1)\n",
        "final.to_csv(\"/content/drive/My Drive/FLPr/output_file 02.csv\",index=False)\n",
        "print(final.head())"
      ],
      "execution_count": 109,
      "outputs": [
        {
          "output_type": "stream",
          "text": [
            "   people_ID  27-Mar-20\n",
            "0          1       1783\n",
            "1          2        744\n",
            "2          3       1691\n",
            "3          4       1657\n",
            "4          5       1594\n"
          ],
          "name": "stdout"
        }
      ]
    }
  ]
}