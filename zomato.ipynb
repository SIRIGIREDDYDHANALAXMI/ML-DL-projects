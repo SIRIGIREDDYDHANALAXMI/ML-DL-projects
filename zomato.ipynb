{
  "nbformat": 4,
  "nbformat_minor": 0,
  "metadata": {
    "colab": {
      "name": "zomato.ipynb",
      "provenance": [],
      "mount_file_id": "1VrDAk09p-ny1A3iCkhvgj8nrv_ptJAYs",
      "authorship_tag": "ABX9TyNLyEEsY+/8OCk5CaO8E2kp",
      "include_colab_link": true
    },
    "kernelspec": {
      "name": "python3",
      "display_name": "Python 3"
    },
    "accelerator": "GPU"
  },
  "cells": [
    {
      "cell_type": "markdown",
      "metadata": {
        "id": "view-in-github",
        "colab_type": "text"
      },
      "source": [
        "<a href=\"https://colab.research.google.com/github/SIRIGIREDDYDHANALAXMI/ML-project-1/blob/master/zomato.ipynb\" target=\"_parent\"><img src=\"https://colab.research.google.com/assets/colab-badge.svg\" alt=\"Open In Colab\"/></a>"
      ]
    },
    {
      "cell_type": "code",
      "metadata": {
        "id": "AFWFyqnx5UIk",
        "colab_type": "code",
        "colab": {}
      },
      "source": [
        "#LETS IMPORT REQUIRED LIBRARIES\n",
        "import numpy as np\n",
        "import pandas as pd\n",
        "import seaborn as sns\n"
      ],
      "execution_count": 0,
      "outputs": []
    },
    {
      "cell_type": "code",
      "metadata": {
        "id": "HZslinSU5n47",
        "colab_type": "code",
        "colab": {}
      },
      "source": [
        "#READING DATA\n",
        "country_code = pd.read_csv(\"//content//drive//My Drive//zomato-restaurants-data//Country-Code.csv\")\n",
        "Data= pd.read_csv(\"//content//drive//My Drive//zomato-restaurants-data//zomato.csv\",\n",
        "                  encoding='ISO-8859-1')\n"
      ],
      "execution_count": 0,
      "outputs": []
    },
    {
      "cell_type": "code",
      "metadata": {
        "id": "wcuddT8-RUv4",
        "colab_type": "code",
        "outputId": "c952f63c-e686-44e6-c146-345a011ba7c2",
        "colab": {
          "base_uri": "https://localhost:8080/",
          "height": 386
        }
      },
      "source": [
        "print(Data.isnull().sum())"
      ],
      "execution_count": 0,
      "outputs": [
        {
          "output_type": "stream",
          "text": [
            "Restaurant ID           0\n",
            "Restaurant Name         0\n",
            "Country Code            0\n",
            "City                    0\n",
            "Address                 0\n",
            "Locality                0\n",
            "Locality Verbose        0\n",
            "Longitude               0\n",
            "Latitude                0\n",
            "Cuisines                9\n",
            "Average Cost for two    0\n",
            "Currency                0\n",
            "Has Table booking       0\n",
            "Has Online delivery     0\n",
            "Is delivering now       0\n",
            "Switch to order menu    0\n",
            "Price range             0\n",
            "Aggregate rating        0\n",
            "Rating color            0\n",
            "Rating text             0\n",
            "Votes                   0\n",
            "dtype: int64\n"
          ],
          "name": "stdout"
        }
      ]
    },
    {
      "cell_type": "code",
      "metadata": {
        "id": "0qi0joOrDtpo",
        "colab_type": "code",
        "outputId": "d215423f-d676-48fa-a5db-6c071c95147c",
        "colab": {
          "base_uri": "https://localhost:8080/",
          "height": 218
        }
      },
      "source": [
        "#MERGING CSV FILES on column = \"Country Code\"\n",
        "data= Data.merge(country_code, on=\"Country Code\")\n",
        "print(data[\"Country Code\"])"
      ],
      "execution_count": 0,
      "outputs": [
        {
          "output_type": "stream",
          "text": [
            "0       162\n",
            "1       162\n",
            "2       162\n",
            "3       162\n",
            "4       162\n",
            "       ... \n",
            "9546    208\n",
            "9547    208\n",
            "9548    208\n",
            "9549    208\n",
            "9550    208\n",
            "Name: Country Code, Length: 9551, dtype: int64\n"
          ],
          "name": "stdout"
        }
      ]
    },
    {
      "cell_type": "code",
      "metadata": {
        "id": "zNn3AXlyGJgw",
        "colab_type": "code",
        "outputId": "39189a9e-066c-4ab7-e43c-fc84c036b638",
        "colab": {
          "base_uri": "https://localhost:8080/",
          "height": 384
        }
      },
      "source": [
        "#lets now check for null values\n",
        "print(sns.heatmap(data.isnull()))"
      ],
      "execution_count": 0,
      "outputs": [
        {
          "output_type": "stream",
          "text": [
            "AxesSubplot(0.125,0.125;0.62x0.755)\n"
          ],
          "name": "stdout"
        },
        {
          "output_type": "display_data",
          "data": {
            "image/png": "[encoded data removed]",
            "text/plain": [
              "<Figure size 432x288 with 2 Axes>"
            ]
          },
          "metadata": {
            "tags": []
          }
        }
      ]
    },
    {
      "cell_type": "code",
      "metadata": {
        "id": "ytK3ZDfFGoKx",
        "colab_type": "code",
        "outputId": "40d2f6df-c39c-46d9-d35b-eb5774ef40c5",
        "colab": {
          "base_uri": "https://localhost:8080/",
          "height": 403
        }
      },
      "source": [
        "#black background indicates that there are null values and whites dots (which may not be visible for small null values). Lets see the null values\n",
        "print(data.isnull().sum())"
      ],
      "execution_count": 0,
      "outputs": [
        {
          "output_type": "stream",
          "text": [
            "Restaurant ID           0\n",
            "Restaurant Name         0\n",
            "Country Code            0\n",
            "City                    0\n",
            "Address                 0\n",
            "Locality                0\n",
            "Locality Verbose        0\n",
            "Longitude               0\n",
            "Latitude                0\n",
            "Cuisines                9\n",
            "Average Cost for two    0\n",
            "Currency                0\n",
            "Has Table booking       0\n",
            "Has Online delivery     0\n",
            "Is delivering now       0\n",
            "Switch to order menu    0\n",
            "Price range             0\n",
            "Aggregate rating        0\n",
            "Rating color            0\n",
            "Rating text             0\n",
            "Votes                   0\n",
            "Country                 0\n",
            "dtype: int64\n"
          ],
          "name": "stdout"
        }
      ]
    },
    {
      "cell_type": "code",
      "metadata": {
        "id": "X-gxaV7mHGta",
        "colab_type": "code",
        "colab": {}
      },
      "source": [
        "#only Cuisines have null values and its datatype is \"object\", so lets use mode to fill null values\n",
        "data[\"Cuisines\"] = data[\"Cuisines\"].fillna(data[\"Cuisines\"]).mode()[0]"
      ],
      "execution_count": 0,
      "outputs": []
    },
    {
      "cell_type": "code",
      "metadata": {
        "id": "GsTnpnOcHeFg",
        "colab_type": "code",
        "outputId": "0930dee7-6b70-4cfc-d805-bc82f8b8e149",
        "colab": {
          "base_uri": "https://localhost:8080/",
          "height": 384
        }
      },
      "source": [
        "#lets now check for null values again. pink background indicates that there are no null values.Data Cleaning is done !!\n",
        "print(sns.heatmap(data.isnull()))"
      ],
      "execution_count": 0,
      "outputs": [
        {
          "output_type": "stream",
          "text": [
            "AxesSubplot(0.125,0.125;0.62x0.755)\n"
          ],
          "name": "stdout"
        },
        {
          "output_type": "display_data",
          "data": {
            "image/png": "[encoded data removed]",
            "text/plain": [
              "<Figure size 432x288 with 2 Axes>"
            ]
          },
          "metadata": {
            "tags": []
          }
        }
      ]
    },
    {
      "cell_type": "markdown",
      "metadata": {
        "id": "Xkwp1Z1Jeumi",
        "colab_type": "text"
      },
      "source": [
        "lets first segregrate based on country --> city \n",
        "\n",
        "\n"
      ]
    },
    {
      "cell_type": "code",
      "metadata": {
        "id": "0h-hm0ddHjpg",
        "colab_type": "code",
        "outputId": "c1473013-c452-432a-b347-690e3dae6558",
        "colab": {
          "base_uri": "https://localhost:8080/",
          "height": 50
        }
      },
      "source": [
        "#lets firstly check the data type of Country Code and City\n",
        "print(data[\"Country Code\"].dtype)\n",
        "print(data[\"City\"].dtype)\n"
      ],
      "execution_count": 0,
      "outputs": [
        {
          "output_type": "stream",
          "text": [
            "int64\n",
            "object\n"
          ],
          "name": "stdout"
        }
      ]
    },
    {
      "cell_type": "code",
      "metadata": {
        "id": "fpHP-UGTDRx6",
        "colab_type": "code",
        "colab": {}
      },
      "source": [
        "#change the data type from object to string\n",
        "data[\"City\"] = data[\"City\"].astype(str)"
      ],
      "execution_count": 0,
      "outputs": []
    },
    {
      "cell_type": "code",
      "metadata": {
        "id": "CiDcc1WxhbgD",
        "colab_type": "code",
        "outputId": "d8a2d5f5-7ac5-4aee-8f47-988e43d2caa7",
        "colab": {
          "base_uri": "https://localhost:8080/",
          "height": 50
        }
      },
      "source": [
        "#basic recommendation based on country , city ,Cuisines,  table booking or online booking\n",
        "#WE need to apply NLP for Cuisines as it's data type is multpile strings\n",
        "\n",
        "import nltk\n",
        "nltk.download(\"punkt\")\n",
        "data[\"Cuisines\"] = data[\"Cuisines\"].astype(str)\n",
        "\n",
        "#lets tokenize the strings in the Cuisine column\n",
        "words=data.apply(lambda data: nltk.word_tokenize(data[\"Cuisines\"]) , axis=1)\n",
        "\n",
        "def recommend1(cc , city , cuisine):\n",
        "  x= data\n",
        "  x= x[x[\"Country Code\"] == cc ]   #country segregation\n",
        "  x= x[x[\"City\"]== city]           #city segregation\n",
        "  \n",
        "  #table booking or online booking segregation\n",
        "  k=int(input(\"zero for table booking and one for online booking\"))\n",
        "  if(k==0):\n",
        "    x=x[x[\"Has Table booking\"] == \"Yes\"]\n",
        "    if(x.size>=1):\n",
        "      print(\"Have a nice day\")\n",
        "    else:\n",
        "      print(\"There are no restaurants with Table Booking in your region\") #this is just to indicate whether the resatuarants of such kind are available or not\n",
        "  else:\n",
        "    x=x[x[\"Has Online delivery\"]== \"Yes\"]\n",
        "    if(x.size>=1):\n",
        "      print(\"Have a nice day\")\n",
        "    else:\n",
        "      print(\"There are no restaurants with Online delivery in your region\")\n",
        "  \n",
        "  #Cuisine based segregation. After tokenization , words are stored as arrays\n",
        "  for i in range(len(words)):\n",
        "    s=words[i]\n",
        "    for j in range(len(s)):\n",
        "      if(s[j]== cuisine):\n",
        "        x = x[x[\"Cuisines\"]==s[j]]\n",
        "     \n",
        "      \n",
        "  return x\n",
        "    "
      ],
      "execution_count": 0,
      "outputs": [
        {
          "output_type": "stream",
          "text": [
            "[nltk_data] Downloading package punkt to /root/nltk_data...\n",
            "[nltk_data]   Package punkt is already up-to-date!\n"
          ],
          "name": "stdout"
        }
      ]
    },
    {
      "cell_type": "code",
      "metadata": {
        "id": "ZBeFuzn_95PN",
        "colab_type": "code",
        "outputId": "24d34162-4316-4906-b434-426aa1185d5d",
        "colab": {
          "base_uri": "https://localhost:8080/",
          "height": 286
        }
      },
      "source": [
        "#here the user has to give the country code , city and Cuisine \n",
        "#also, the user has to choose table booking or online delivery (u can see while running the code cell)\n",
        "k= recommend1(1, \"Ahmedabad\" ,\"Cafe\") #inputs by the user\n",
        "print(k)"
      ],
      "execution_count": 0,
      "outputs": [
        {
          "output_type": "stream",
          "text": [
            "zero for table booking and one for online booking1\n",
            "Have a nice day\n",
            "     Restaurant ID                         Restaurant Name  ...  Votes Country\n",
            "646       18396250                           Huber & Holly  ...    217   India\n",
            "648         113433                      Fozzie's Pizzaiolo  ...    731   India\n",
            "649       18438909                         La Pino'z Pizza  ...    113   India\n",
            "650       18143128                                   Mocha  ...    944   India\n",
            "651       18438944  Blue -  Rooftop Cafe Restaurant Bistro  ...     63   India\n",
            "656         110237                        Kabir Restaurant  ...    432   India\n",
            "657         113537                                Puffizza  ...    744   India\n",
            "658         113703                           Cafe Alfresco  ...    404   India\n",
            "659       18385186                         The Cafe Baraco  ...    317   India\n",
            "660         113325                          Nini's Kitchen  ...   1138   India\n",
            "663       18371341                                   Mazzo  ...    166   India\n",
            "\n",
            "[11 rows x 22 columns]\n"
          ],
          "name": "stdout"
        }
      ]
    },
    {
      "cell_type": "markdown",
      "metadata": {
        "id": "eeTzt7WKJNRt",
        "colab_type": "text"
      },
      "source": [
        "lets filter further based on Aggregate rating and No. of Votes."
      ]
    },
    {
      "cell_type": "code",
      "metadata": {
        "id": "__stnl23qe31",
        "colab_type": "code",
        "outputId": "af0714b5-a7ae-4ccc-c660-be06ba7b89b0",
        "colab": {
          "base_uri": "https://localhost:8080/",
          "height": 168
        }
      },
      "source": [
        "k[\"Votes\"].describe()"
      ],
      "execution_count": 0,
      "outputs": [
        {
          "output_type": "execute_result",
          "data": {
            "text/plain": [
              "count      11.000000\n",
              "mean      479.000000\n",
              "std       359.435391\n",
              "min        63.000000\n",
              "25%       191.500000\n",
              "50%       404.000000\n",
              "75%       737.500000\n",
              "max      1138.000000\n",
              "Name: Votes, dtype: float64"
            ]
          },
          "metadata": {
            "tags": []
          },
          "execution_count": 140
        }
      ]
    },
    {
      "cell_type": "markdown",
      "metadata": {
        "id": "SfGYN1wc60VC",
        "colab_type": "text"
      },
      "source": [
        "\n",
        "\n",
        "if votes >= mean(of votes) , then sort dataframe(Of votes>= mean) in descending order according to no. of votes\n",
        "(this means more number of people have visited this restaurant)\n",
        "\n",
        "\n",
        "if votes < mean(of votes) , then sort dataframe(of votes < mean) in descending order according to aggregate rating \n",
        "(this means the restaurant is basically good depending uppon rating)\n",
        "\n",
        "\n",
        "finally, we concate results of both !!\n",
        " "
      ]
    },
    {
      "cell_type": "code",
      "metadata": {
        "id": "6MYdPvHL7Fv2",
        "colab_type": "code",
        "outputId": "b883b60d-2a5a-432e-df16-24488eefa5e5",
        "colab": {
          "base_uri": "https://localhost:8080/",
          "height": 269
        }
      },
      "source": [
        "p = k[k[\"Votes\"]>=k[\"Votes\"].mean()]\n",
        "p= p.sort_values([\"Votes\"] , axis=0, ascending=False) \n",
        "print(p.head())       #p is the dataframe for votes>=mean\n",
        "\n",
        "q= k[k[\"Votes\"]<k[\"Votes\"].mean()]\n",
        "q=q.sort_values([\"Aggregate rating\"], axis =0, ascending = False)\n",
        "print(q.head())         #q is the dataframe for votes<mean"
      ],
      "execution_count": 0,
      "outputs": [
        {
          "output_type": "stream",
          "text": [
            "     Restaurant ID     Restaurant Name  Country Code  ... Rating text Votes Country\n",
            "660         113325      Nini's Kitchen             1  ...   Excellent  1138   India\n",
            "650       18143128               Mocha             1  ...   Very Good   944   India\n",
            "657         113537            Puffizza             1  ...   Very Good   744   India\n",
            "648         113433  Fozzie's Pizzaiolo             1  ...   Very Good   731   India\n",
            "\n",
            "[4 rows x 22 columns]\n",
            "     Restaurant ID  Restaurant Name  Country Code  ... Rating text Votes Country\n",
            "646       18396250    Huber & Holly             1  ...   Excellent   217   India\n",
            "649       18438909  La Pino'z Pizza             1  ...   Very Good   113   India\n",
            "659       18385186  The Cafe Baraco             1  ...   Very Good   317   India\n",
            "658         113703    Cafe Alfresco             1  ...   Very Good   404   India\n",
            "663       18371341            Mazzo             1  ...        Good   166   India\n",
            "\n",
            "[5 rows x 22 columns]\n"
          ],
          "name": "stdout"
        }
      ]
    },
    {
      "cell_type": "code",
      "metadata": {
        "id": "YbnI2RdS98r1",
        "colab_type": "code",
        "outputId": "859b41b5-c655-4b99-941a-1239e704e36e",
        "colab": {
          "base_uri": "https://localhost:8080/",
          "height": 218
        }
      },
      "source": [
        "frames = [p,q]\n",
        "FINAL = pd.concat(frames)\n",
        "print(FINAL[\"Restaurant Name\"]) #final reccomendation result"
      ],
      "execution_count": 0,
      "outputs": [
        {
          "output_type": "stream",
          "text": [
            "660                            Nini's Kitchen\n",
            "650                                     Mocha\n",
            "657                                  Puffizza\n",
            "648                        Fozzie's Pizzaiolo\n",
            "646                             Huber & Holly\n",
            "649                           La Pino'z Pizza\n",
            "659                           The Cafe Baraco\n",
            "658                             Cafe Alfresco\n",
            "663                                     Mazzo\n",
            "651    Blue -  Rooftop Cafe Restaurant Bistro\n",
            "656                          Kabir Restaurant\n",
            "Name: Restaurant Name, dtype: object\n"
          ],
          "name": "stdout"
        }
      ]
    }
  ]
}